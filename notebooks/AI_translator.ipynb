{
 "cells": [
  {
   "cell_type": "markdown",
   "id": "55700616",
   "metadata": {},
   "source": [
    "## Simple GEN AI Translator with LCEL and Groq"
   ]
  },
  {
   "cell_type": "markdown",
   "id": "2437f256",
   "metadata": {},
   "source": [
    "#### Simple APP"
   ]
  },
  {
   "cell_type": "code",
   "execution_count": 1,
   "id": "ee9570f0",
   "metadata": {},
   "outputs": [
    {
     "data": {
      "text/plain": [
       "True"
      ]
     },
     "execution_count": 1,
     "metadata": {},
     "output_type": "execute_result"
    }
   ],
   "source": [
    "import os\n",
    "from dotenv import load_dotenv\n",
    "load_dotenv()"
   ]
  },
  {
   "cell_type": "code",
   "execution_count": 2,
   "id": "db0b546c",
   "metadata": {},
   "outputs": [],
   "source": [
    "#Loading environment variables\n",
    "groq_api_key = os.getenv(\"GROQ_API_KEY\")"
   ]
  },
  {
   "cell_type": "code",
   "execution_count": 3,
   "id": "3b08ac66",
   "metadata": {},
   "outputs": [
    {
     "name": "stderr",
     "output_type": "stream",
     "text": [
      "c:\\Users\\gauricchio\\AppData\\Local\\miniconda3\\envs\\genai\\Lib\\site-packages\\tqdm\\auto.py:21: TqdmWarning: IProgress not found. Please update jupyter and ipywidgets. See https://ipywidgets.readthedocs.io/en/stable/user_install.html\n",
      "  from .autonotebook import tqdm as notebook_tqdm\n"
     ]
    }
   ],
   "source": [
    "from langchain_groq import ChatGroq\n",
    "#call model from Groq\n",
    "model=ChatGroq(model=\"Gemma2-9b-It\", groq_api_key=groq_api_key)\n"
   ]
  },
  {
   "cell_type": "code",
   "execution_count": 4,
   "id": "5dd02ae1",
   "metadata": {},
   "outputs": [
    {
     "data": {
      "text/plain": [
       "ChatGroq(client=<groq.resources.chat.completions.Completions object at 0x0000021B05EDD7D0>, async_client=<groq.resources.chat.completions.AsyncCompletions object at 0x0000021B06021890>, model_name='Gemma2-9b-It', model_kwargs={}, groq_api_key=SecretStr('**********'))"
      ]
     },
     "execution_count": 4,
     "metadata": {},
     "output_type": "execute_result"
    }
   ],
   "source": [
    "model"
   ]
  },
  {
   "cell_type": "code",
   "execution_count": null,
   "id": "822fbd7e",
   "metadata": {},
   "outputs": [
    {
     "name": "stdout",
     "output_type": "stream",
     "text": [
      "Hello! How are you today?  😊 \n",
      "\n"
     ]
    }
   ],
   "source": [
    "#Building LLM APllication\n",
    "from langchain_core.messages import HumanMessage, SystemMessage\n",
    "\n",
    "#massage list for the model\n",
    "messages = [\n",
    "    SystemMessage(content=\"You are a helpful assistant that translates Italian to English.\"),\n",
    "    HumanMessage(content=\"Ciao, come stai oggi?\")\n",
    "]\n",
    "\n",
    "#invoke model\n",
    "response = model.invoke(messages)\n",
    "print(response.content) #in this way we can print only the content of the response"
   ]
  },
  {
   "cell_type": "code",
   "execution_count": null,
   "id": "6dde9474",
   "metadata": {},
   "outputs": [
    {
     "data": {
      "text/plain": [
       "'Hello! How are you today?  😊 \\n'"
      ]
     },
     "execution_count": 9,
     "metadata": {},
     "output_type": "execute_result"
    }
   ],
   "source": [
    "#Siamo interessati solo alla chiave 'content' della risposta. Quindi utilizziamo StringOutputParser\n",
    "from langchain_core.output_parsers import StrOutputParser\n",
    "parser=StrOutputParser()\n",
    "parser.invoke(response)"
   ]
  },
  {
   "cell_type": "code",
   "execution_count": 10,
   "id": "2d2a0bd4",
   "metadata": {},
   "outputs": [
    {
     "data": {
      "text/plain": [
       "'Hello! How are you today?  😄 \\n'"
      ]
     },
     "execution_count": 10,
     "metadata": {},
     "output_type": "execute_result"
    }
   ],
   "source": [
    "#using LCEL we can create a chain\n",
    "chain = model | parser\n",
    "chain.invoke(messages)"
   ]
  },
  {
   "cell_type": "markdown",
   "id": "e53212c6",
   "metadata": {},
   "source": [
    "#### Generic APP\n",
    "In this case we give the possibility to set the language and the sentence to translate"
   ]
  },
  {
   "cell_type": "code",
   "execution_count": 2,
   "id": "2c575c4e",
   "metadata": {},
   "outputs": [],
   "source": [
    "import os\n",
    "from dotenv import load_dotenv\n",
    "load_dotenv()\n",
    "#Loading environment variables\n",
    "groq_api_key = os.getenv(\"GROQ_API_KEY\")"
   ]
  },
  {
   "cell_type": "code",
   "execution_count": 3,
   "id": "8feb4372",
   "metadata": {},
   "outputs": [
    {
     "name": "stderr",
     "output_type": "stream",
     "text": [
      "c:\\Users\\gauricchio\\AppData\\Local\\miniconda3\\envs\\genai\\Lib\\site-packages\\tqdm\\auto.py:21: TqdmWarning: IProgress not found. Please update jupyter and ipywidgets. See https://ipywidgets.readthedocs.io/en/stable/user_install.html\n",
      "  from .autonotebook import tqdm as notebook_tqdm\n"
     ]
    }
   ],
   "source": [
    "#Select the model again (by GROQ)\n",
    "from langchain_groq import ChatGroq\n",
    "#call model from Groq\n",
    "model=ChatGroq(model=\"Gemma2-9b-It\", groq_api_key=groq_api_key)"
   ]
  },
  {
   "cell_type": "code",
   "execution_count": null,
   "id": "bf4230dd",
   "metadata": {},
   "outputs": [],
   "source": [
    "#create prompt\n",
    "\"\"\"\n",
    "We create a prompt with two variables:\n",
    "- language: the language in which we want to translate\n",
    "- text: the text to translate\n",
    "\n",
    "We use two messages:\n",
    "- system: to set the context\n",
    "- user: to give the text to translate\n",
    "\"\"\"\n",
    "from langchain_core.prompts import ChatPromptTemplate\n",
    "\n",
    "generic_template = \"Translate the following in {language} giving just one version\"\n",
    "\n",
    "prompt = ChatPromptTemplate.from_messages(\n",
    "    [(\"system\",generic_template), (\"user\", \"{text}\")]\n",
    ")"
   ]
  },
  {
   "cell_type": "code",
   "execution_count": 22,
   "id": "9703b4fb",
   "metadata": {},
   "outputs": [],
   "source": [
    "#Setting Language and User Input\n",
    "language = \"English\"\n",
    "text = \"Ciao, come va? Mi chiamo Gennaro e lavoro in una società di consulenza.\"\n",
    "\n",
    "#Invoke the prompt giving the two variables\n",
    "response = prompt.invoke({\"language\": language, \"text\": text})\n",
    "\n",
    "#Note: prompt.invoke doesn't call the model, it just formats the messages to be sent to the model\n"
   ]
  },
  {
   "cell_type": "code",
   "execution_count": 18,
   "id": "ecc9ce22",
   "metadata": {},
   "outputs": [
    {
     "name": "stdout",
     "output_type": "stream",
     "text": [
      "messages=[SystemMessage(content='Translate the following in Dutch giving just one version', additional_kwargs={}, response_metadata={}), HumanMessage(content='Hello, how are you today?', additional_kwargs={}, response_metadata={})]\n"
     ]
    }
   ],
   "source": [
    "#print response\n",
    "print(response)"
   ]
  },
  {
   "cell_type": "code",
   "execution_count": 23,
   "id": "a24dde8d",
   "metadata": {},
   "outputs": [
    {
     "name": "stdout",
     "output_type": "stream",
     "text": [
      "Hi, how are you? My name is Gennaro and I work for a consulting firm. \n",
      "\n"
     ]
    }
   ],
   "source": [
    "#Results visualization\n",
    "#parser\n",
    "from langchain_core.output_parsers import StrOutputParser\n",
    "parser = StrOutputParser() #it will extract only the content from the response of the model\n",
    "\n",
    "#chain\n",
    "chain = prompt | model | parser\n",
    "\n",
    "#print\n",
    "print(chain.invoke({\"language\": language, \"text\":text}))\n"
   ]
  },
  {
   "cell_type": "code",
   "execution_count": null,
   "id": "1a573570",
   "metadata": {},
   "outputs": [],
   "source": []
  },
  {
   "cell_type": "code",
   "execution_count": null,
   "id": "1e9d28ce",
   "metadata": {},
   "outputs": [],
   "source": []
  },
  {
   "cell_type": "code",
   "execution_count": null,
   "id": "eb0dba06",
   "metadata": {},
   "outputs": [],
   "source": []
  },
  {
   "cell_type": "markdown",
   "id": "573fb855",
   "metadata": {},
   "source": []
  }
 ],
 "metadata": {
  "kernelspec": {
   "display_name": "genai",
   "language": "python",
   "name": "python3"
  },
  "language_info": {
   "codemirror_mode": {
    "name": "ipython",
    "version": 3
   },
   "file_extension": ".py",
   "mimetype": "text/x-python",
   "name": "python",
   "nbconvert_exporter": "python",
   "pygments_lexer": "ipython3",
   "version": "3.11.0"
  }
 },
 "nbformat": 4,
 "nbformat_minor": 5
}
